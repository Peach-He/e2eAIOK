{
 "cells": [
  {
   "cell_type": "markdown",
   "id": "2b92539e",
   "metadata": {},
   "source": [
    "# Model Adapter Distiller Customized DEMO\n",
    "Model Adapter is a convenient framework can be used to reduce training and inference time, or data labeling cost by efficiently utilizing public advanced models and those datasets from many domains. It mainly contains three components served for different cases: Finetuner, Distiller, and Domain Adapter. \n",
    "\n",
    "This demo mainly introduces the usage of Distiller. Take image classification as an example, it shows how to integrate distiller from VIT to ResNet18 on CIFAR100 dataset. This demo shows how to integrate distiller into a general training pipeline, you can find build-in simplied demo at [here](./Model_Adapter_Distiller_buildin_ResNet18_CIFAR100.ipynb)."
   ]
  },
  {
   "cell_type": "markdown",
   "id": "96ef213f",
   "metadata": {},
   "source": [
    "# Content\n",
    "\n",
    "* [Model Adapter Distiller Overview](#Model-Adapter-Distller-Overview)\n",
    "* [Environment Setup](#Environment-Setup)\n",
    "* [Training with Distiller](#Training-with-Distiller)\n",
    "    * [Prepare Data](#Prepare-Data)\n",
    "    * [Create Transferrable Model](#Create-Transferrable-Model)\n",
    "    * [Train and Evaluate](#Train-and-Evaluate)"
   ]
  },
  {
   "cell_type": "markdown",
   "id": "b7b6cb09",
   "metadata": {},
   "source": [
    "# Model Adapter Distiller Overview\n",
    "Distiller is based on knowledge distillation technology, it can transfer knowledge from a heavy model (teacher) to a light one (student) with different structure. Teacher is a large model pretrained on specific dataset, which contains sufficient knowledge for this task, while the student model has much smaller structure. Distiller trains the student not only on the dataset, but also with the help of teacher’s knowledge. With distiller, we can take use of the knowledge from the existing pretrained large models but use much less training time. It can also significantly improve the converge speed and predicting accuracy of a small model, which is very helpful for inference.\n",
    "\n",
    "<img src=\"../imgs/distiller.png\" width=\"60%\">\n",
    "<center>Model Adapter Distiller Structure</center>"
   ]
  },
  {
   "cell_type": "markdown",
   "id": "0ad2fc58",
   "metadata": {},
   "source": [
    "# Environment Setup\n",
    "\n",
    "1. prepare code\n",
    "    ``` bash\n",
    "    git clone https://github.com/intel/e2eAIOK.git\n",
    "    cd e2eAIOK\n",
    "    git submodule update --init –recursive\n",
    "    ```\n",
    "2. build docker image\n",
    "   proxy\n",
    "   ``` bash\n",
    "   python3 scripts/start_e2eaiok_docker.py -b pytorch112 --dataset_path ${dataset_path} -w ${host0} ${host1} ${host2} ${host3} --proxy  \"http://addr:ip\"\n",
    "   ```\n",
    "3. run docker\n",
    "   ``` bash\n",
    "   sshpass -p docker ssh ${host0} -p 12347\n",
    "   ```\n",
    "4. Run in conda and set up e2eAIOK\n",
    "   ```bash\n",
    "   conda activate pytorch-1.12.0\n",
    "   python setup.py sdist && pip install dist/e2eAIOK-*.*.*.tar.gz\n",
    "   ```\n",
    "5. Start the jupyter notebook and tensorboard service\n",
    "   ``` bash\n",
    "   nohup jupyter notebook --notebook-dir=/home/vmagent/app/e2eaiok --ip=${hostname} --port=8899 --allow-root &\n",
    "   nohup tensorboard --logdir /home/vmagent/app/data/tensorboard --host=${hostname} --port=6006 & \n",
    "   ```\n",
    "   Now you can visit demso in `http://${hostname}:8899/`, and see tensorboad log in ` http://${hostname}:6006`."
   ]
  },
  {
   "cell_type": "markdown",
   "id": "6636494a",
   "metadata": {},
   "source": [
    "# Training with Distiller"
   ]
  },
  {
   "cell_type": "markdown",
   "id": "0e6d8e21",
   "metadata": {},
   "source": [
    "Import lib"
   ]
  },
  {
   "cell_type": "code",
   "execution_count": 1,
   "id": "f878badd",
   "metadata": {},
   "outputs": [],
   "source": [
    "import torch\n",
    "from torchvision import transforms,datasets\n",
    "from torch.utils.data import DataLoader\n",
    "import torch.optim as optim\n",
    "from timm.utils import accuracy\n",
    "import timm\n",
    "import transformers\n",
    "import datetime"
   ]
  },
  {
   "cell_type": "markdown",
   "id": "ec28cbf4",
   "metadata": {},
   "source": [
    "## Prepare Data"
   ]
  },
  {
   "cell_type": "markdown",
   "id": "3893b32d",
   "metadata": {},
   "source": [
    "### Define transformer and dataset"
   ]
  },
  {
   "cell_type": "code",
   "execution_count": 2,
   "id": "c016312d",
   "metadata": {},
   "outputs": [],
   "source": [
    "CIFAR_TRAIN_MEAN = (0.4914, 0.4822, 0.4465)\n",
    "CIFAR_TRAIN_STD = (0.2023, 0.1994, 0.2010)\n",
    "\n",
    "train_transform = transforms.Compose([\n",
    "  transforms.RandomCrop(32, padding=4),\n",
    "  transforms.RandomHorizontalFlip(),\n",
    "  transforms.Resize(112),  # pretrained model is trained on large imgage size, scale 32x32 to 112x112\n",
    "  transforms.ToTensor(),\n",
    "  transforms.Normalize(CIFAR_TRAIN_MEAN, CIFAR_TRAIN_STD)\n",
    "])\n",
    "\n",
    "test_transform = transforms.Compose([\n",
    "  transforms.RandomCrop(32, padding=4),\n",
    "  transforms.Resize(112),  # pretrained model is trained on large imgage size, scale 32x32 to 112x112\n",
    "  transforms.ToTensor(),\n",
    "  transforms.Normalize(CIFAR_TRAIN_MEAN, CIFAR_TRAIN_STD)\n",
    "])"
   ]
  },
  {
   "cell_type": "code",
   "execution_count": 3,
   "id": "039a91b7",
   "metadata": {},
   "outputs": [
    {
     "name": "stdout",
     "output_type": "stream",
     "text": [
      "Files already downloaded and verified\n",
      "Files already downloaded and verified\n"
     ]
    }
   ],
   "source": [
    "data_folder='/home/vmagent/app/data/dataset/cifar' # dataset location\n",
    "train_set = datasets.CIFAR100(root=data_folder, train=True, download=True, transform=train_transform)\n",
    "test_set = datasets.CIFAR100(root=data_folder, train=False, download=True, transform=test_transform)"
   ]
  },
  {
   "cell_type": "markdown",
   "id": "d85fb033",
   "metadata": {},
   "source": [
    "### Prepare dataloader"
   ]
  },
  {
   "cell_type": "code",
   "execution_count": 4,
   "id": "69896736",
   "metadata": {},
   "outputs": [],
   "source": [
    "train_loader = DataLoader(dataset=train_set, batch_size=128, shuffle=True, num_workers=1, drop_last=False)\n",
    "validate_loader = DataLoader(dataset=test_set, batch_size=128, shuffle=True, num_workers=1, drop_last=False)"
   ]
  },
  {
   "cell_type": "markdown",
   "id": "f9eeba42",
   "metadata": {},
   "source": [
    "## Create Transferrable Model"
   ]
  },
  {
   "cell_type": "markdown",
   "id": "b06ea401",
   "metadata": {},
   "source": [
    "### Create Backbone model"
   ]
  },
  {
   "cell_type": "code",
   "execution_count": 5,
   "id": "40b8a7d6",
   "metadata": {},
   "outputs": [],
   "source": [
    "backbone = timm.create_model('resnet18', pretrained=False, num_classes=100)"
   ]
  },
  {
   "cell_type": "markdown",
   "id": "1568a3ba",
   "metadata": {},
   "source": [
    "(optional & recommend) Optimized weight initilization, can enhance initial learning."
   ]
  },
  {
   "cell_type": "code",
   "execution_count": 6,
   "id": "87143657",
   "metadata": {},
   "outputs": [
    {
     "data": {
      "text/plain": [
       "ResNet(\n",
       "  (conv1): Conv2d(3, 64, kernel_size=(7, 7), stride=(2, 2), padding=(3, 3), bias=False)\n",
       "  (bn1): BatchNorm2d(64, eps=1e-05, momentum=0.1, affine=True, track_running_stats=True)\n",
       "  (act1): ReLU(inplace=True)\n",
       "  (maxpool): MaxPool2d(kernel_size=3, stride=2, padding=1, dilation=1, ceil_mode=False)\n",
       "  (layer1): Sequential(\n",
       "    (0): BasicBlock(\n",
       "      (conv1): Conv2d(64, 64, kernel_size=(3, 3), stride=(1, 1), padding=(1, 1), bias=False)\n",
       "      (bn1): BatchNorm2d(64, eps=1e-05, momentum=0.1, affine=True, track_running_stats=True)\n",
       "      (drop_block): Identity()\n",
       "      (act1): ReLU(inplace=True)\n",
       "      (aa): Identity()\n",
       "      (conv2): Conv2d(64, 64, kernel_size=(3, 3), stride=(1, 1), padding=(1, 1), bias=False)\n",
       "      (bn2): BatchNorm2d(64, eps=1e-05, momentum=0.1, affine=True, track_running_stats=True)\n",
       "      (act2): ReLU(inplace=True)\n",
       "    )\n",
       "    (1): BasicBlock(\n",
       "      (conv1): Conv2d(64, 64, kernel_size=(3, 3), stride=(1, 1), padding=(1, 1), bias=False)\n",
       "      (bn1): BatchNorm2d(64, eps=1e-05, momentum=0.1, affine=True, track_running_stats=True)\n",
       "      (drop_block): Identity()\n",
       "      (act1): ReLU(inplace=True)\n",
       "      (aa): Identity()\n",
       "      (conv2): Conv2d(64, 64, kernel_size=(3, 3), stride=(1, 1), padding=(1, 1), bias=False)\n",
       "      (bn2): BatchNorm2d(64, eps=1e-05, momentum=0.1, affine=True, track_running_stats=True)\n",
       "      (act2): ReLU(inplace=True)\n",
       "    )\n",
       "  )\n",
       "  (layer2): Sequential(\n",
       "    (0): BasicBlock(\n",
       "      (conv1): Conv2d(64, 128, kernel_size=(3, 3), stride=(2, 2), padding=(1, 1), bias=False)\n",
       "      (bn1): BatchNorm2d(128, eps=1e-05, momentum=0.1, affine=True, track_running_stats=True)\n",
       "      (drop_block): Identity()\n",
       "      (act1): ReLU(inplace=True)\n",
       "      (aa): Identity()\n",
       "      (conv2): Conv2d(128, 128, kernel_size=(3, 3), stride=(1, 1), padding=(1, 1), bias=False)\n",
       "      (bn2): BatchNorm2d(128, eps=1e-05, momentum=0.1, affine=True, track_running_stats=True)\n",
       "      (act2): ReLU(inplace=True)\n",
       "      (downsample): Sequential(\n",
       "        (0): Conv2d(64, 128, kernel_size=(1, 1), stride=(2, 2), bias=False)\n",
       "        (1): BatchNorm2d(128, eps=1e-05, momentum=0.1, affine=True, track_running_stats=True)\n",
       "      )\n",
       "    )\n",
       "    (1): BasicBlock(\n",
       "      (conv1): Conv2d(128, 128, kernel_size=(3, 3), stride=(1, 1), padding=(1, 1), bias=False)\n",
       "      (bn1): BatchNorm2d(128, eps=1e-05, momentum=0.1, affine=True, track_running_stats=True)\n",
       "      (drop_block): Identity()\n",
       "      (act1): ReLU(inplace=True)\n",
       "      (aa): Identity()\n",
       "      (conv2): Conv2d(128, 128, kernel_size=(3, 3), stride=(1, 1), padding=(1, 1), bias=False)\n",
       "      (bn2): BatchNorm2d(128, eps=1e-05, momentum=0.1, affine=True, track_running_stats=True)\n",
       "      (act2): ReLU(inplace=True)\n",
       "    )\n",
       "  )\n",
       "  (layer3): Sequential(\n",
       "    (0): BasicBlock(\n",
       "      (conv1): Conv2d(128, 256, kernel_size=(3, 3), stride=(2, 2), padding=(1, 1), bias=False)\n",
       "      (bn1): BatchNorm2d(256, eps=1e-05, momentum=0.1, affine=True, track_running_stats=True)\n",
       "      (drop_block): Identity()\n",
       "      (act1): ReLU(inplace=True)\n",
       "      (aa): Identity()\n",
       "      (conv2): Conv2d(256, 256, kernel_size=(3, 3), stride=(1, 1), padding=(1, 1), bias=False)\n",
       "      (bn2): BatchNorm2d(256, eps=1e-05, momentum=0.1, affine=True, track_running_stats=True)\n",
       "      (act2): ReLU(inplace=True)\n",
       "      (downsample): Sequential(\n",
       "        (0): Conv2d(128, 256, kernel_size=(1, 1), stride=(2, 2), bias=False)\n",
       "        (1): BatchNorm2d(256, eps=1e-05, momentum=0.1, affine=True, track_running_stats=True)\n",
       "      )\n",
       "    )\n",
       "    (1): BasicBlock(\n",
       "      (conv1): Conv2d(256, 256, kernel_size=(3, 3), stride=(1, 1), padding=(1, 1), bias=False)\n",
       "      (bn1): BatchNorm2d(256, eps=1e-05, momentum=0.1, affine=True, track_running_stats=True)\n",
       "      (drop_block): Identity()\n",
       "      (act1): ReLU(inplace=True)\n",
       "      (aa): Identity()\n",
       "      (conv2): Conv2d(256, 256, kernel_size=(3, 3), stride=(1, 1), padding=(1, 1), bias=False)\n",
       "      (bn2): BatchNorm2d(256, eps=1e-05, momentum=0.1, affine=True, track_running_stats=True)\n",
       "      (act2): ReLU(inplace=True)\n",
       "    )\n",
       "  )\n",
       "  (layer4): Sequential(\n",
       "    (0): BasicBlock(\n",
       "      (conv1): Conv2d(256, 512, kernel_size=(3, 3), stride=(2, 2), padding=(1, 1), bias=False)\n",
       "      (bn1): BatchNorm2d(512, eps=1e-05, momentum=0.1, affine=True, track_running_stats=True)\n",
       "      (drop_block): Identity()\n",
       "      (act1): ReLU(inplace=True)\n",
       "      (aa): Identity()\n",
       "      (conv2): Conv2d(512, 512, kernel_size=(3, 3), stride=(1, 1), padding=(1, 1), bias=False)\n",
       "      (bn2): BatchNorm2d(512, eps=1e-05, momentum=0.1, affine=True, track_running_stats=True)\n",
       "      (act2): ReLU(inplace=True)\n",
       "      (downsample): Sequential(\n",
       "        (0): Conv2d(256, 512, kernel_size=(1, 1), stride=(2, 2), bias=False)\n",
       "        (1): BatchNorm2d(512, eps=1e-05, momentum=0.1, affine=True, track_running_stats=True)\n",
       "      )\n",
       "    )\n",
       "    (1): BasicBlock(\n",
       "      (conv1): Conv2d(512, 512, kernel_size=(3, 3), stride=(1, 1), padding=(1, 1), bias=False)\n",
       "      (bn1): BatchNorm2d(512, eps=1e-05, momentum=0.1, affine=True, track_running_stats=True)\n",
       "      (drop_block): Identity()\n",
       "      (act1): ReLU(inplace=True)\n",
       "      (aa): Identity()\n",
       "      (conv2): Conv2d(512, 512, kernel_size=(3, 3), stride=(1, 1), padding=(1, 1), bias=False)\n",
       "      (bn2): BatchNorm2d(512, eps=1e-05, momentum=0.1, affine=True, track_running_stats=True)\n",
       "      (act2): ReLU(inplace=True)\n",
       "    )\n",
       "  )\n",
       "  (global_pool): SelectAdaptivePool2d (pool_type=avg, flatten=Flatten(start_dim=1, end_dim=-1))\n",
       "  (fc): Linear(in_features=512, out_features=100, bias=True)\n",
       ")"
      ]
     },
     "execution_count": 6,
     "metadata": {},
     "output_type": "execute_result"
    }
   ],
   "source": [
    "from e2eAIOK.common.trainer.model.model_utils.model_utils import initWeights\n",
    "backbone.apply(initWeights)"
   ]
  },
  {
   "cell_type": "markdown",
   "id": "f01b6c52",
   "metadata": {},
   "source": [
    "### Create teacher model\n",
    "To use distiller, we need to prepare teacher model to guide the training. Directly download teacher model Resnet50 pretrained on CIFAR100 from [here](), and put it at `${dataset}/model/demo/baseline/cifar100_res50PretrainI21k/cifar100_res50_pretrain_imagenet21k.pth`."
   ]
  },
  {
   "cell_type": "code",
   "execution_count": 7,
   "id": "8b3d1996",
   "metadata": {},
   "outputs": [
    {
     "data": {
      "text/plain": [
       "<All keys matched successfully>"
      ]
     },
     "execution_count": 7,
     "metadata": {},
     "output_type": "execute_result"
    }
   ],
   "source": [
    "pretrain_model = \"/home/vmagent/app/data/model/demo/baseline/cifar100_res50PretrainI21k/cifar100_res50_pretrain_imagenet21k.pth\"\n",
    "teacher_model = timm.create_model('resnet50', pretrained=False, num_classes=100)\n",
    "teacher_model.load_state_dict(torch.load(pretrain_model), strict=True)"
   ]
  },
  {
   "cell_type": "markdown",
   "id": "6353b6d3",
   "metadata": {},
   "source": [
    "### Define Distiller\n",
    "Here we define a distiller using KD algorithm, and it take a teacher model as input."
   ]
  },
  {
   "cell_type": "code",
   "execution_count": 8,
   "id": "2c86c941",
   "metadata": {},
   "outputs": [],
   "source": [
    "from e2eAIOK.ModelAdapter.engine_core.distiller import KD\n",
    "distiller= KD(teacher_model)"
   ]
  },
  {
   "cell_type": "markdown",
   "id": "d5c1bd41",
   "metadata": {},
   "source": [
    "### Make backbone model transferrable with distiller"
   ]
  },
  {
   "cell_type": "code",
   "execution_count": 9,
   "id": "2e1b2074",
   "metadata": {},
   "outputs": [],
   "source": [
    "from e2eAIOK.ModelAdapter.engine_core.transferrable_model import *\n",
    "loss_fn = torch.nn.CrossEntropyLoss()\n",
    "model = make_transferrable_with_knowledge_distillation(backbone,loss_fn,distiller)"
   ]
  },
  {
   "cell_type": "markdown",
   "id": "4e633199",
   "metadata": {},
   "source": [
    "## Train and Evaluate"
   ]
  },
  {
   "cell_type": "markdown",
   "id": "aa226f93",
   "metadata": {},
   "source": [
    "### Create optimizer and scheduler"
   ]
  },
  {
   "cell_type": "code",
   "execution_count": 10,
   "id": "5c9561a5",
   "metadata": {},
   "outputs": [],
   "source": [
    "################# create optimizer #################\n",
    "init_lr = 0.01\n",
    "weight_decay = 0.0001\n",
    "momentum = 0.9\n",
    "optimizer = optim.SGD(model.parameters(),lr=init_lr, weight_decay=weight_decay,momentum=momentum)\n",
    "################# create scheduler #################\n",
    "scheduler = optim.lr_scheduler.ExponentialLR(optimizer, gamma=0.1)"
   ]
  },
  {
   "cell_type": "markdown",
   "id": "840a0628",
   "metadata": {},
   "source": [
    "### Create Trainer"
   ]
  },
  {
   "cell_type": "code",
   "execution_count": 11,
   "id": "046525dc",
   "metadata": {},
   "outputs": [],
   "source": [
    "max_epoch = 1 # max 1 epoch\n",
    "print_interval = 10 "
   ]
  },
  {
   "cell_type": "code",
   "execution_count": 12,
   "id": "874fb6b2",
   "metadata": {},
   "outputs": [],
   "source": [
    "class Trainer:\n",
    "    def __init__(self, model, optimizer, scheduler):\n",
    "        self._model = model\n",
    "        self._optimizer = optimizer\n",
    "        self._scheduler = scheduler\n",
    "        \n",
    "    def train(self, train_dataloader, valid_dataloader, max_epoch):\n",
    "        ''' \n",
    "        :param train_dataloader: train dataloader\n",
    "        :param valid_dataloader: validation dataloader\n",
    "        :param max_epoch: steps per epoch\n",
    "        '''\n",
    "        for epoch in range(0, max_epoch):\n",
    "            ################## train #####################\n",
    "            self._model.train()  # set training flag\n",
    "            for (cur_step,(data, label)) in enumerate(train_dataloader):\n",
    "                self._optimizer.zero_grad()\n",
    "                output = self._model(data)\n",
    "                loss_value = self._model.loss(output, label) # transferrable model has loss attribute\n",
    "                loss_value.backward() \n",
    "                if cur_step%print_interval == 0:\n",
    "                    batch_acc = accuracy(output.backbone_output,label)[0] # use output.backbone_output instead of output\n",
    "                    dt = datetime.datetime.now().strftime('%Y-%m-%d %H:%M:%S') # date time\n",
    "                    print(\"[{}] epoch {} step {} : total loss {:4f}, training backbone loss {:.4f}, distiller loss {:4f}, training batch acc {:.4f}\".format(\n",
    "                      dt, epoch, cur_step, loss_value.total_loss.item(),loss_value.backbone_loss.item(), loss_value.distiller_loss.item(), batch_acc.item())) \n",
    "                self._optimizer.step()\n",
    "            self._scheduler.step()\n",
    "            ################## evaluate ######################\n",
    "            self.evaluate(valid_dataloader)\n",
    "            \n",
    "    def evaluate(self, valid_dataloader):\n",
    "        with torch.no_grad():\n",
    "            self._model.eval()  \n",
    "            backbone = self._model.backbone # use backbone in evaluation\n",
    "            loss_cum = 0.0\n",
    "            sample_num = 0\n",
    "            acc_cum = 0.0\n",
    "            total_step = len(valid_dataloader)\n",
    "            for (cur_step,(data, label)) in enumerate(valid_dataloader):\n",
    "                output = backbone(data)\n",
    "                batch_size = data.size(0)\n",
    "                sample_num += batch_size\n",
    "                loss_cum += loss_fn(output, label).item() * batch_size\n",
    "                acc_cum += accuracy(output, label)[0].item() * batch_size\n",
    "                if cur_step%print_interval == 0:\n",
    "                    print(f\"step {cur_step}/{total_step}\")\n",
    "            dt = datetime.datetime.now().strftime('%Y-%m-%d %H:%M:%S') # date time\n",
    "            loss_value = loss_cum/sample_num\n",
    "            acc_value = acc_cum/sample_num\n",
    "\n",
    "            print(\"[{}] evaluation loss {:.4f}, evaluation acc {:.4f}\".format(\n",
    "                dt, loss_value, acc_value))"
   ]
  },
  {
   "cell_type": "markdown",
   "id": "bc734272",
   "metadata": {},
   "source": [
    "### Start train"
   ]
  },
  {
   "cell_type": "code",
   "execution_count": 13,
   "id": "bae383b6",
   "metadata": {},
   "outputs": [
    {
     "name": "stdout",
     "output_type": "stream",
     "text": [
      "[2023-02-09 04:55:18] epoch 0 step 0 : total loss 8.668498, training backbone loss 5.5269, distiller loss 9.017567, training batch acc 0.0000\n",
      "[2023-02-09 04:55:33] epoch 0 step 10 : total loss 7.362644, training backbone loss 4.8556, distiller loss 7.641201, training batch acc 1.5625\n",
      "[2023-02-09 04:55:48] epoch 0 step 20 : total loss 7.232350, training backbone loss 4.5274, distiller loss 7.532903, training batch acc 1.5625\n",
      "[2023-02-09 04:56:02] epoch 0 step 30 : total loss 7.261838, training backbone loss 4.1673, distiller loss 7.605680, training batch acc 8.5938\n",
      "[2023-02-09 04:56:17] epoch 0 step 40 : total loss 6.535180, training backbone loss 4.0882, distiller loss 6.807068, training batch acc 5.4688\n",
      "[2023-02-09 04:56:32] epoch 0 step 50 : total loss 6.611567, training backbone loss 4.0500, distiller loss 6.896182, training batch acc 7.8125\n",
      "[2023-02-09 04:56:47] epoch 0 step 60 : total loss 6.338083, training backbone loss 4.2036, distiller loss 6.575247, training batch acc 6.2500\n",
      "[2023-02-09 04:57:02] epoch 0 step 70 : total loss 6.138908, training backbone loss 3.9076, distiller loss 6.386834, training batch acc 12.5000\n",
      "[2023-02-09 04:57:16] epoch 0 step 80 : total loss 5.646765, training backbone loss 3.8628, distiller loss 5.844987, training batch acc 10.1562\n",
      "[2023-02-09 04:57:31] epoch 0 step 90 : total loss 5.682286, training backbone loss 4.0872, distiller loss 5.859516, training batch acc 7.0312\n",
      "[2023-02-09 04:57:46] epoch 0 step 100 : total loss 6.029198, training backbone loss 3.8155, distiller loss 6.275162, training batch acc 10.9375\n",
      "[2023-02-09 04:58:01] epoch 0 step 110 : total loss 6.011505, training backbone loss 3.7418, distiller loss 6.263695, training batch acc 14.8438\n",
      "[2023-02-09 04:58:16] epoch 0 step 120 : total loss 6.219101, training backbone loss 4.1170, distiller loss 6.452671, training batch acc 5.4688\n",
      "[2023-02-09 04:58:30] epoch 0 step 130 : total loss 6.061425, training backbone loss 3.8008, distiller loss 6.312604, training batch acc 13.2812\n",
      "[2023-02-09 04:58:44] epoch 0 step 140 : total loss 5.973656, training backbone loss 3.6501, distiller loss 6.231826, training batch acc 16.4062\n",
      "[2023-02-09 04:58:59] epoch 0 step 150 : total loss 6.221100, training backbone loss 3.8909, distiller loss 6.480006, training batch acc 8.5938\n",
      "[2023-02-09 04:59:12] epoch 0 step 160 : total loss 6.021611, training backbone loss 3.8269, distiller loss 6.265471, training batch acc 11.7188\n",
      "[2023-02-09 04:59:26] epoch 0 step 170 : total loss 6.032664, training backbone loss 3.6878, distiller loss 6.293203, training batch acc 17.1875\n",
      "[2023-02-09 04:59:41] epoch 0 step 180 : total loss 6.129652, training backbone loss 3.9330, distiller loss 6.373724, training batch acc 10.9375\n",
      "[2023-02-09 04:59:56] epoch 0 step 190 : total loss 6.362164, training backbone loss 3.6665, distiller loss 6.661685, training batch acc 16.4062\n",
      "[2023-02-09 05:00:09] epoch 0 step 200 : total loss 5.772425, training backbone loss 3.7058, distiller loss 6.002054, training batch acc 14.8438\n",
      "[2023-02-09 05:00:25] epoch 0 step 210 : total loss 5.626271, training backbone loss 3.3093, distiller loss 5.883712, training batch acc 24.2188\n",
      "[2023-02-09 05:00:39] epoch 0 step 220 : total loss 5.731030, training backbone loss 4.1154, distiller loss 5.910541, training batch acc 10.9375\n",
      "[2023-02-09 05:00:53] epoch 0 step 230 : total loss 5.699437, training backbone loss 3.4877, distiller loss 5.945183, training batch acc 16.4062\n",
      "[2023-02-09 05:01:08] epoch 0 step 240 : total loss 5.353416, training backbone loss 3.8441, distiller loss 5.521122, training batch acc 14.0625\n",
      "[2023-02-09 05:01:23] epoch 0 step 250 : total loss 6.124831, training backbone loss 3.6645, distiller loss 6.398205, training batch acc 15.6250\n",
      "[2023-02-09 05:01:38] epoch 0 step 260 : total loss 5.609916, training backbone loss 3.5849, distiller loss 5.834918, training batch acc 17.9688\n",
      "[2023-02-09 05:01:53] epoch 0 step 270 : total loss 5.471179, training backbone loss 3.2944, distiller loss 5.713047, training batch acc 21.8750\n",
      "[2023-02-09 05:02:07] epoch 0 step 280 : total loss 5.833064, training backbone loss 3.5361, distiller loss 6.088284, training batch acc 16.4062\n",
      "[2023-02-09 05:02:22] epoch 0 step 290 : total loss 5.351771, training backbone loss 3.6750, distiller loss 5.538074, training batch acc 21.0938\n",
      "[2023-02-09 05:02:36] epoch 0 step 300 : total loss 5.855926, training backbone loss 3.4787, distiller loss 6.120061, training batch acc 14.0625\n",
      "[2023-02-09 05:02:50] epoch 0 step 310 : total loss 5.387944, training backbone loss 3.2535, distiller loss 5.625101, training batch acc 21.8750\n",
      "[2023-02-09 05:03:05] epoch 0 step 320 : total loss 5.288961, training backbone loss 3.2560, distiller loss 5.514842, training batch acc 20.3125\n",
      "[2023-02-09 05:03:20] epoch 0 step 330 : total loss 5.556927, training backbone loss 3.4950, distiller loss 5.786035, training batch acc 14.8438\n",
      "[2023-02-09 05:03:35] epoch 0 step 340 : total loss 5.463490, training backbone loss 3.4667, distiller loss 5.685361, training batch acc 17.1875\n",
      "[2023-02-09 05:03:49] epoch 0 step 350 : total loss 5.857606, training backbone loss 3.4416, distiller loss 6.126049, training batch acc 24.2188\n",
      "[2023-02-09 05:04:04] epoch 0 step 360 : total loss 5.133866, training backbone loss 3.5608, distiller loss 5.308657, training batch acc 19.5312\n",
      "[2023-02-09 05:04:18] epoch 0 step 370 : total loss 5.488927, training backbone loss 3.5389, distiller loss 5.705591, training batch acc 19.5312\n",
      "[2023-02-09 05:04:31] epoch 0 step 380 : total loss 5.573066, training backbone loss 3.4453, distiller loss 5.809486, training batch acc 18.7500\n",
      "[2023-02-09 05:04:45] epoch 0 step 390 : total loss 5.329698, training backbone loss 3.5285, distiller loss 5.529830, training batch acc 16.2500\n",
      "step 0/79\n",
      "step 10/79\n",
      "step 20/79\n",
      "step 30/79\n",
      "step 40/79\n",
      "step 50/79\n",
      "step 60/79\n",
      "step 70/79\n",
      "[2023-02-09 05:04:54] evaluation loss 3.5904, evaluation acc 18.6600\n",
      "CPU times: user 6h 28min 42s, sys: 55min 36s, total: 7h 24min 19s\n",
      "Wall time: 9min 38s\n"
     ]
    }
   ],
   "source": [
    "%%time\n",
    "trainer = Trainer(model, optimizer, scheduler)\n",
    "trainer.train(train_loader,validate_loader,max_epoch)"
   ]
  }
 ],
 "metadata": {
  "kernelspec": {
   "display_name": "Python 3 (ipykernel)",
   "language": "python",
   "name": "python3"
  },
  "language_info": {
   "codemirror_mode": {
    "name": "ipython",
    "version": 3
   },
   "file_extension": ".py",
   "mimetype": "text/x-python",
   "name": "python",
   "nbconvert_exporter": "python",
   "pygments_lexer": "ipython3",
   "version": "3.9.12"
  }
 },
 "nbformat": 4,
 "nbformat_minor": 5
}
