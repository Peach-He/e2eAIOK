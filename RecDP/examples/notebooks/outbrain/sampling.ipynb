{
 "cells": [
  {
   "cell_type": "code",
   "execution_count": 1,
   "id": "f5052889",
   "metadata": {},
   "outputs": [
    {
     "name": "stderr",
     "output_type": "stream",
     "text": [
      "/tmp/ipykernel_9044/3276386017.py:19: DtypeWarning: Columns (4) have mixed types. Specify dtype option on import or set low_memory=False.\n",
      "  df_list[f_name] = [pd.read_csv(f\"{dir_path}/{f_path}\")]\n"
     ]
    }
   ],
   "source": [
    "import pandas as pd\n",
    "\n",
    "dir_path = \"/home/vmagent/app/recdp/dataset/outbrain_raw/orig\"\n",
    "\n",
    "file_list = {\n",
    "    'clicks': \"clicks_train.csv\",\n",
    "    'documents_categories': \"documents_categories.csv\",\n",
    "    'documents_entities': \"documents_entities.csv\",\n",
    "    'documents_meta': \"documents_meta.csv\",\n",
    "    'documents_topics': \"documents_topics.csv\",\n",
    "    'events': \"events.csv\",\n",
    "    'page_views': \"page_views_sample.csv\",\n",
    "    'promoted_content': \"promoted_content.csv\"\n",
    "}\n",
    "\n",
    "df_list = {}\n",
    "\n",
    "for f_name, f_path in file_list.items():\n",
    "    df_list[f_name] = [pd.read_csv(f\"{dir_path}/{f_path}\")]"
   ]
  },
  {
   "cell_type": "code",
   "execution_count": 2,
   "id": "66b921c6",
   "metadata": {},
   "outputs": [],
   "source": [
    "for f_name, f_path in file_list.items():\n",
    "    df_list[f_name][0] = df_list[f_name][0].sample(frac=0.01, replace=True, random_state=123)"
   ]
  },
  {
   "cell_type": "code",
   "execution_count": 3,
   "id": "8b04dfea",
   "metadata": {},
   "outputs": [],
   "source": [
    "out_path = \"/home/vmagent/app/recdp/dataset/outbrain_raw/sampled\"\n",
    "for f_name, f_path in file_list.items():\n",
    "    df_list[f_name][0].to_csv(f\"{out_path}/{f_path}\", index=False)"
   ]
  },
  {
   "cell_type": "code",
   "execution_count": null,
   "id": "04c23e53",
   "metadata": {},
   "outputs": [],
   "source": []
  }
 ],
 "metadata": {
  "kernelspec": {
   "display_name": "Python 3 (ipykernel)",
   "language": "python",
   "name": "python3"
  },
  "language_info": {
   "codemirror_mode": {
    "name": "ipython",
    "version": 3
   },
   "file_extension": ".py",
   "mimetype": "text/x-python",
   "name": "python",
   "nbconvert_exporter": "python",
   "pygments_lexer": "ipython3",
   "version": "3.10.6"
  }
 },
 "nbformat": 4,
 "nbformat_minor": 5
}
