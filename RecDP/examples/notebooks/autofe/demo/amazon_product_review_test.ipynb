{
 "cells": [
  {
   "cell_type": "markdown",
   "id": "4043a96e",
   "metadata": {},
   "source": [
    "# AWS product review end-to-end pipeline"
   ]
  },
  {
   "cell_type": "markdown",
   "id": "0b64f46f",
   "metadata": {},
   "source": [
    "## 1. Load Datasets"
   ]
  },
  {
   "cell_type": "code",
   "execution_count": 1,
   "id": "08f2db69",
   "metadata": {},
   "outputs": [
    {
     "name": "stderr",
     "output_type": "stream",
     "text": [
      "/tmp/ipykernel_251166/175938766.py:2: DtypeWarning: Columns (7) have mixed types. Specify dtype option on import or set low_memory=False.\n",
      "  train_data = pd.read_table(f\"/home/vmagent/app/recdp/dataset/all_amazon_reviews/amazon_reviews_us_Books_v1_00.tsv\", on_bad_lines = 'skip')\n"
     ]
    }
   ],
   "source": [
    "import pandas as pd\n",
    "train_data = pd.read_table(f\"/home/vmagent/app/recdp/dataset/all_amazon_reviews/amazon_reviews_us_Books_v1_00.tsv\", on_bad_lines = 'skip')"
   ]
  },
  {
   "cell_type": "markdown",
   "id": "16471d4f",
   "metadata": {},
   "source": [
    "## 2. create pipeline for training"
   ]
  },
  {
   "cell_type": "code",
   "execution_count": 2,
   "id": "8e94cb3e",
   "metadata": {
    "scrolled": false
   },
   "outputs": [
    {
     "name": "stderr",
     "output_type": "stream",
     "text": [
      "WARNING:root:'PYARROW_IGNORE_TIMEZONE' environment variable was not set. It is required to set this environment variable to '1' in both driver and executor sides if you use pyarrow>=2.0.0. pandas-on-Spark will set it for you but it does not work if there is a Spark context already launched.\n",
      "None of PyTorch, TensorFlow >= 2.0, or Flax have been found. Models won't be available and only tokenizers, configuration and file/data utilities can be used.\n"
     ]
    },
    {
     "ename": "KeyError",
     "evalue": "'is_datetime'",
     "output_type": "error",
     "traceback": [
      "\u001b[0;31m---------------------------------------------------------------------------\u001b[0m",
      "\u001b[0;31mKeyError\u001b[0m                                  Traceback (most recent call last)",
      "Cell \u001b[0;32mIn[2], line 3\u001b[0m\n\u001b[1;32m      1\u001b[0m \u001b[38;5;28;01mfrom\u001b[39;00m \u001b[38;5;21;01mpyrecdp\u001b[39;00m\u001b[38;5;21;01m.\u001b[39;00m\u001b[38;5;21;01mautofe\u001b[39;00m \u001b[38;5;28;01mimport\u001b[39;00m FeatureWrangler, DataEstimator\n\u001b[0;32m----> 3\u001b[0m data_pipeline \u001b[38;5;241m=\u001b[39m \u001b[43mFeatureWrangler\u001b[49m\u001b[43m(\u001b[49m\u001b[43mdataset\u001b[49m\u001b[38;5;241;43m=\u001b[39;49m\u001b[43mtrain_data\u001b[49m\u001b[43m,\u001b[49m\u001b[43m \u001b[49m\u001b[43mlabel\u001b[49m\u001b[38;5;241;43m=\u001b[39;49m\u001b[38;5;124;43m\"\u001b[39;49m\u001b[38;5;124;43mstar_rating\u001b[39;49m\u001b[38;5;124;43m\"\u001b[39;49m\u001b[43m)\u001b[49m\n\u001b[1;32m      4\u001b[0m pipeline \u001b[38;5;241m=\u001b[39m DataEstimator(metrics \u001b[38;5;241m=\u001b[39m \u001b[38;5;124m'\u001b[39m\u001b[38;5;124mrmse\u001b[39m\u001b[38;5;124m'\u001b[39m, model_name\u001b[38;5;241m=\u001b[39m\u001b[38;5;124m'\u001b[39m\u001b[38;5;124mlightgbm\u001b[39m\u001b[38;5;124m'\u001b[39m, method \u001b[38;5;241m=\u001b[39m \u001b[38;5;124m'\u001b[39m\u001b[38;5;124mtrain\u001b[39m\u001b[38;5;124m'\u001b[39m, data_pipeline \u001b[38;5;241m=\u001b[39m data_pipeline)\n\u001b[1;32m      6\u001b[0m pipeline\u001b[38;5;241m.\u001b[39mplot()\n",
      "File \u001b[0;32m/usr/local/lib/python3.10/dist-packages/pyrecdp/autofe/FeatureWrangler.py:25\u001b[0m, in \u001b[0;36mFeatureWrangler.__init__\u001b[0;34m(self, dataset, label, supplementary_datasets, *args, **kwargs)\u001b[0m\n\u001b[1;32m     22\u001b[0m \u001b[38;5;28mself\u001b[39m\u001b[38;5;241m.\u001b[39mgenerators\u001b[38;5;241m.\u001b[39mappend([\u001b[38;5;28mcls\u001b[39m() \u001b[38;5;28;01mfor\u001b[39;00m \u001b[38;5;28mcls\u001b[39m \u001b[38;5;129;01min\u001b[39;00m encode_generator_list])\n\u001b[1;32m     23\u001b[0m \u001b[38;5;28mself\u001b[39m\u001b[38;5;241m.\u001b[39mgenerators\u001b[38;5;241m.\u001b[39mappend([\u001b[38;5;28mcls\u001b[39m(final \u001b[38;5;241m=\u001b[39m \u001b[38;5;28;01mTrue\u001b[39;00m) \u001b[38;5;28;01mfor\u001b[39;00m \u001b[38;5;28mcls\u001b[39m \u001b[38;5;129;01min\u001b[39;00m final_generator_list])\n\u001b[0;32m---> 25\u001b[0m \u001b[38;5;28;43mself\u001b[39;49m\u001b[38;5;241;43m.\u001b[39;49m\u001b[43mfit_analyze\u001b[49m\u001b[43m(\u001b[49m\u001b[43m)\u001b[49m\n",
      "File \u001b[0;32m/usr/local/lib/python3.10/dist-packages/pyrecdp/autofe/FeatureWrangler.py:53\u001b[0m, in \u001b[0;36mFeatureWrangler.fit_analyze\u001b[0;34m(self, *args, **kwargs)\u001b[0m\n\u001b[1;32m     50\u001b[0m     sampled_data \u001b[38;5;241m=\u001b[39m sampled_data[\u001b[38;5;28mself\u001b[39m\u001b[38;5;241m.\u001b[39mfeature_columns]\n\u001b[1;32m     52\u001b[0m \u001b[38;5;28;01mfor\u001b[39;00m generator \u001b[38;5;129;01min\u001b[39;00m \u001b[38;5;28mself\u001b[39m\u001b[38;5;241m.\u001b[39mdata_profiler:\n\u001b[0;32m---> 53\u001b[0m     \u001b[38;5;28mself\u001b[39m\u001b[38;5;241m.\u001b[39mpipeline, child, max_id \u001b[38;5;241m=\u001b[39m \u001b[43mgenerator\u001b[49m\u001b[38;5;241;43m.\u001b[39;49m\u001b[43mfit_prepare\u001b[49m\u001b[43m(\u001b[49m\u001b[38;5;28;43mself\u001b[39;49m\u001b[38;5;241;43m.\u001b[39;49m\u001b[43mpipeline\u001b[49m\u001b[43m,\u001b[49m\u001b[43m \u001b[49m\u001b[43m[\u001b[49m\u001b[43mchild\u001b[49m\u001b[43m]\u001b[49m\u001b[43m,\u001b[49m\u001b[43m \u001b[49m\u001b[43mmax_id\u001b[49m\u001b[43m,\u001b[49m\u001b[43m \u001b[49m\u001b[43msampled_data\u001b[49m\u001b[43m)\u001b[49m\n\u001b[1;32m     54\u001b[0m \u001b[38;5;28msuper\u001b[39m()\u001b[38;5;241m.\u001b[39mfit_analyze(\u001b[38;5;241m*\u001b[39margs, \u001b[38;5;241m*\u001b[39m\u001b[38;5;241m*\u001b[39mkwargs)\n",
      "File \u001b[0;32m/usr/local/lib/python3.10/dist-packages/pyrecdp/primitives/generators/type.py:68\u001b[0m, in \u001b[0;36mTypeInferFeatureGenerator.fit_prepare\u001b[0;34m(self, pipeline, children, max_idx, df)\u001b[0m\n\u001b[1;32m     66\u001b[0m \u001b[38;5;28;01mif\u001b[39;00m try_numeric(df[feature_name]):\n\u001b[1;32m     67\u001b[0m     config[\u001b[38;5;124m'\u001b[39m\u001b[38;5;124mis_numeric\u001b[39m\u001b[38;5;124m'\u001b[39m] \u001b[38;5;241m=\u001b[39m \u001b[38;5;28;01mTrue\u001b[39;00m\n\u001b[0;32m---> 68\u001b[0m \u001b[38;5;28;01mif\u001b[39;00m \u001b[38;5;129;01mnot\u001b[39;00m \u001b[43mconfig\u001b[49m\u001b[43m[\u001b[49m\u001b[38;5;124;43m'\u001b[39;49m\u001b[38;5;124;43mis_datetime\u001b[39;49m\u001b[38;5;124;43m'\u001b[39;49m\u001b[43m]\u001b[49m \u001b[38;5;129;01mand\u001b[39;00m try_category(df[feature_name]):\n\u001b[1;32m     69\u001b[0m     config[\u001b[38;5;124m'\u001b[39m\u001b[38;5;124mis_categorical\u001b[39m\u001b[38;5;124m'\u001b[39m] \u001b[38;5;241m=\u001b[39m \u001b[38;5;28;01mTrue\u001b[39;00m\n\u001b[1;32m     70\u001b[0m pa_field\u001b[38;5;241m.\u001b[39mcopy_config_from(config)\n",
      "\u001b[0;31mKeyError\u001b[0m: 'is_datetime'"
     ]
    }
   ],
   "source": [
    "from pyrecdp.autofe import FeatureWrangler, DataEstimator\n",
    "\n",
    "data_pipeline = FeatureWrangler(dataset=train_data, label=\"star_rating\")\n",
    "pipeline = DataEstimator(metrics = 'rmse', model_name='lightgbm', method = 'train', data_pipeline = data_pipeline)\n",
    "\n",
    "pipeline.plot()"
   ]
  },
  {
   "cell_type": "markdown",
   "id": "324a080c",
   "metadata": {},
   "source": [
    "## 3. execute pipeline w/ spark"
   ]
  },
  {
   "cell_type": "code",
   "execution_count": null,
   "id": "f66ecab6",
   "metadata": {},
   "outputs": [],
   "source": [
    "pipeline,fit_transform('spark')"
   ]
  },
  {
   "cell_type": "markdown",
   "id": "c9165ffa",
   "metadata": {},
   "source": [
    "## 4. export pipeline"
   ]
  },
  {
   "cell_type": "code",
   "execution_count": null,
   "id": "5d3f27e9",
   "metadata": {
    "scrolled": false
   },
   "outputs": [],
   "source": [
    "pipeline.export()"
   ]
  },
  {
   "cell_type": "code",
   "execution_count": null,
   "id": "9d678684",
   "metadata": {},
   "outputs": [],
   "source": []
  }
 ],
 "metadata": {
  "kernelspec": {
   "display_name": "Python 3 (ipykernel)",
   "language": "python",
   "name": "python3"
  },
  "language_info": {
   "codemirror_mode": {
    "name": "ipython",
    "version": 3
   },
   "file_extension": ".py",
   "mimetype": "text/x-python",
   "name": "python",
   "nbconvert_exporter": "python",
   "pygments_lexer": "ipython3",
   "version": "3.10.6"
  }
 },
 "nbformat": 4,
 "nbformat_minor": 5
}
