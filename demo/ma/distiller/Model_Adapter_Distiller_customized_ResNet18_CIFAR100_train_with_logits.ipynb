{
 "cells": [
  {
   "cell_type": "markdown",
   "id": "417eb0d3",
   "metadata": {},
   "source": [
    "# Model Adapter Distiller Customized DEMO - train with saved logits\n",
    "Model Adapter is a convenient framework can be used to reduce training and inference time, or data labeling cost by efficiently utilizing public advanced models and datasets. It mainly contains three components served for different cases: Finetuner, Distiller, and Domain Adapter. \n",
    "\n",
    "Distiller is based on knowledge distillation technology, it can transfer knowledge from a heavy model (teacher) to a light one (student) with different structure. However, during the distillation process, teacher forwarding usually takes a lot of time. We can use logits saving function in distiller to save predictions from teacher in adavance, then lots of time can be saved during student training. \n",
    "\n",
    "This demo mainly introduces the training of Distiller with saved logits. In last [save logits demo](./Model_Adapter_Distiller_customized_VIT_on_CIFAR100_save_logits.ipynb) we have show how to save predicting logits from VIT on CIFAR100, and here we will show how to use the saved logits to guide the training of student ResNet18.\n",
    "\n",
    "To use logits saved before for backbone training, we just need to update three steps on [previous pipeline](./Model_Adapter_Distiller_customized_ResNet18_CIFAR100.ipynb):\n",
    "- Wrap train_dataset with DataWrapper, set save_logits to False\n",
    "- When define Distiller, set use_saved_logits to be True\n",
    "- When epoch changes, call dataset.set_epoch(epoch)"
   ]
  },
  {
   "cell_type": "markdown",
   "id": "3998935e",
   "metadata": {},
   "source": [
    "# Content\n",
    "\n",
    "* [Model Adapter Distiller Overview](#Model-Adapter-Distller-Overview)\n",
    "* [Environment Setup](#Environment-Setup)\n",
    "* [Distiller Training with saved logits](#Distiller-Training-with-saved-logits)\n",
    "    * [Prepare Data](#Prepare-Data)\n",
    "    * [Create Transferrable Model](#Create-Transferrable-Model)\n",
    "    * [Train and Evaluate](#Train-and-Evaluate)"
   ]
  },
  {
   "cell_type": "markdown",
   "id": "faf813cc",
   "metadata": {},
   "source": [
    "# Model Adapter Distiller Overview\n",
    "Distiller is based on knowledge distillation technology, it can transfer knowledge from a heavy model (teacher) to a light one (student) with different structure. Teacher is a large model pretrained on specific dataset, which contains sufficient knowledge for this task, while the student model has much smaller structure. Distiller trains the student not only on the dataset, but also with the help of teacher’s knowledge. With distiller, we can take use of the knowledge from the existing pretrained large models but use much less training time. It can also significantly improve the converge speed and predicting accuracy of a small model, which is very helpful for inference.\n",
    "\n",
    "<img src=\"../imgs/distiller.png\" width=\"60%\">\n",
    "<center>Model Adapter Distiller Structure</center>"
   ]
  },
  {
   "cell_type": "markdown",
   "id": "008eaf36",
   "metadata": {},
   "source": [
    "# Environment Setup\n",
    "\n",
    "1. prepare code\n",
    "    ``` bash\n",
    "    git clone https://github.com/intel/e2eAIOK.git\n",
    "    cd e2eAIOK\n",
    "    git submodule update --init –recursive\n",
    "    ```\n",
    "2. build docker image\n",
    "   proxy\n",
    "   ``` bash\n",
    "   python3 scripts/start_e2eaiok_docker.py -b pytorch112 --dataset_path ${dataset_path} -w ${host0} ${host1} ${host2} ${host3} --proxy  \"http://addr:ip\"\n",
    "   ```\n",
    "3. run docker\n",
    "   ``` bash\n",
    "   sshpass -p docker ssh ${host0} -p 12347\n",
    "   ```\n",
    "4. Run in conda and set up e2eAIOK\n",
    "   ```bash\n",
    "   conda activate pytorch-1.12.0\n",
    "   python setup.py sdist && pip install dist/e2eAIOK-*.*.*.tar.gz\n",
    "   ```\n",
    "5. Start the jupyter notebook and tensorboard service\n",
    "   ``` bash\n",
    "   nohup jupyter notebook --notebook-dir=/home/vmagent/app/e2eaiok --ip=${hostname} --port=8899 --allow-root &\n",
    "   nohup tensorboard --logdir /home/vmagent/app/data/tensorboard --host=${hostname} --port=6006 & \n",
    "   ```\n",
    "   Now you can visit demso in `http://${hostname}:8899/`, and see tensorboad log in ` http://${hostname}:6006`."
   ]
  },
  {
   "cell_type": "markdown",
   "id": "48507000",
   "metadata": {},
   "source": [
    "# Distiller Training with saved logits"
   ]
  },
  {
   "cell_type": "markdown",
   "id": "d394a5df",
   "metadata": {},
   "source": [
    "Import lib"
   ]
  },
  {
   "cell_type": "code",
   "execution_count": 1,
   "id": "f878badd",
   "metadata": {},
   "outputs": [],
   "source": [
    "import torch\n",
    "from torchvision import transforms,datasets\n",
    "from torch.utils.data import DataLoader\n",
    "import torch.optim as optim\n",
    "from timm.utils import accuracy\n",
    "import timm\n",
    "import transformers\n",
    "import datetime"
   ]
  },
  {
   "cell_type": "markdown",
   "id": "bbcd339d",
   "metadata": {},
   "source": [
    "## Prepare Data\n",
    "### Prepare transformer and dataset\n",
    "For student, we can use original image size 32x32.\n",
    "\n",
    "Note: Data preprocessor for student and teacher can be different, but for all the process with random augmentation, they must keep same."
   ]
  },
  {
   "cell_type": "code",
   "execution_count": 2,
   "id": "77065ca5",
   "metadata": {},
   "outputs": [],
   "source": [
    "IMAGE_MEAN = [0.5, 0.5, 0.5]\n",
    "IMAGE_STD = [0.5, 0.5, 0.5]\n",
    "\n",
    "train_transform = transforms.Compose([\n",
    "  transforms.RandomCrop(32, padding=4),\n",
    "  transforms.RandomHorizontalFlip(),\n",
    "  transforms.ToTensor(),\n",
    "  transforms.Normalize(IMAGE_MEAN, IMAGE_STD)\n",
    "])\n",
    "\n",
    "test_transform = transforms.Compose([\n",
    "  transforms.RandomCrop(32, padding=4),\n",
    "  transforms.ToTensor(),\n",
    "  transforms.Normalize(IMAGE_MEAN, IMAGE_STD)\n",
    "])"
   ]
  },
  {
   "cell_type": "code",
   "execution_count": 3,
   "id": "a49f273d",
   "metadata": {},
   "outputs": [
    {
     "name": "stdout",
     "output_type": "stream",
     "text": [
      "Files already downloaded and verified\n",
      "Files already downloaded and verified\n"
     ]
    }
   ],
   "source": [
    "data_folder='/home/vmagent/app/data/dataset/cifar' # dataset location\n",
    "train_set = datasets.CIFAR100(root=data_folder, train=True, download=True, transform=train_transform)\n",
    "test_set = datasets.CIFAR100(root=data_folder, train=False, download=True, transform=test_transform)"
   ]
  },
  {
   "cell_type": "markdown",
   "id": "293597d0",
   "metadata": {},
   "source": [
    "### Warp dataset with DataWrapper\n",
    "Warp train dataset with DataWrapper, which helps to load data augmentation information and corresponding saved logits. Remember set save_logits flag to False.\n",
    "\n",
    "The logits should be saved from last [save logits demo](./Model_Adapter_Distiller_customized_ResNet50_on_CIFAR100_save_logits.ipynb), if not, you can directly download from [here](to-be-added) and put it at `logits_path`"
   ]
  },
  {
   "cell_type": "code",
   "execution_count": 4,
   "id": "b442080e",
   "metadata": {},
   "outputs": [],
   "source": [
    "from e2eAIOK.ModelAdapter.engine_core.distiller.utils import logits_wrap_dataset\n",
    "logits_path = \"/home/vmagent/app/data/model/demo/distiller/cifar100_kd_vit/logits_demo\" # path for saved logits\n",
    "train_set = logits_wrap_dataset(train_set, logits_path=logits_path, num_classes=100, save_logits=False)"
   ]
  },
  {
   "cell_type": "markdown",
   "id": "2cdeee4e",
   "metadata": {},
   "source": [
    "### Create dataloader"
   ]
  },
  {
   "cell_type": "code",
   "execution_count": 5,
   "id": "4703b31c",
   "metadata": {},
   "outputs": [],
   "source": [
    "train_loader = DataLoader(dataset=train_set, batch_size=128, shuffle=True, num_workers=1, drop_last=False)\n",
    "validate_loader = DataLoader(dataset=test_set, batch_size=128, shuffle=True, num_workers=1, drop_last=False)"
   ]
  },
  {
   "cell_type": "markdown",
   "id": "f9eeba42",
   "metadata": {},
   "source": [
    "## Create Transferrable Model"
   ]
  },
  {
   "cell_type": "markdown",
   "id": "660678e1",
   "metadata": {},
   "source": [
    "### Create Backbone model"
   ]
  },
  {
   "cell_type": "code",
   "execution_count": 6,
   "id": "40b8a7d6",
   "metadata": {},
   "outputs": [],
   "source": [
    "backbone = timm.create_model('resnet18', pretrained=False, num_classes=100)"
   ]
  },
  {
   "cell_type": "markdown",
   "id": "485cd19c",
   "metadata": {},
   "source": [
    "(optional & recommend) Optimized weight initilization, can enhance initial learning."
   ]
  },
  {
   "cell_type": "code",
   "execution_count": 7,
   "id": "9714594a",
   "metadata": {},
   "outputs": [
    {
     "data": {
      "text/plain": [
       "ResNet(\n",
       "  (conv1): Conv2d(3, 64, kernel_size=(7, 7), stride=(2, 2), padding=(3, 3), bias=False)\n",
       "  (bn1): BatchNorm2d(64, eps=1e-05, momentum=0.1, affine=True, track_running_stats=True)\n",
       "  (act1): ReLU(inplace=True)\n",
       "  (maxpool): MaxPool2d(kernel_size=3, stride=2, padding=1, dilation=1, ceil_mode=False)\n",
       "  (layer1): Sequential(\n",
       "    (0): BasicBlock(\n",
       "      (conv1): Conv2d(64, 64, kernel_size=(3, 3), stride=(1, 1), padding=(1, 1), bias=False)\n",
       "      (bn1): BatchNorm2d(64, eps=1e-05, momentum=0.1, affine=True, track_running_stats=True)\n",
       "      (drop_block): Identity()\n",
       "      (act1): ReLU(inplace=True)\n",
       "      (aa): Identity()\n",
       "      (conv2): Conv2d(64, 64, kernel_size=(3, 3), stride=(1, 1), padding=(1, 1), bias=False)\n",
       "      (bn2): BatchNorm2d(64, eps=1e-05, momentum=0.1, affine=True, track_running_stats=True)\n",
       "      (act2): ReLU(inplace=True)\n",
       "    )\n",
       "    (1): BasicBlock(\n",
       "      (conv1): Conv2d(64, 64, kernel_size=(3, 3), stride=(1, 1), padding=(1, 1), bias=False)\n",
       "      (bn1): BatchNorm2d(64, eps=1e-05, momentum=0.1, affine=True, track_running_stats=True)\n",
       "      (drop_block): Identity()\n",
       "      (act1): ReLU(inplace=True)\n",
       "      (aa): Identity()\n",
       "      (conv2): Conv2d(64, 64, kernel_size=(3, 3), stride=(1, 1), padding=(1, 1), bias=False)\n",
       "      (bn2): BatchNorm2d(64, eps=1e-05, momentum=0.1, affine=True, track_running_stats=True)\n",
       "      (act2): ReLU(inplace=True)\n",
       "    )\n",
       "  )\n",
       "  (layer2): Sequential(\n",
       "    (0): BasicBlock(\n",
       "      (conv1): Conv2d(64, 128, kernel_size=(3, 3), stride=(2, 2), padding=(1, 1), bias=False)\n",
       "      (bn1): BatchNorm2d(128, eps=1e-05, momentum=0.1, affine=True, track_running_stats=True)\n",
       "      (drop_block): Identity()\n",
       "      (act1): ReLU(inplace=True)\n",
       "      (aa): Identity()\n",
       "      (conv2): Conv2d(128, 128, kernel_size=(3, 3), stride=(1, 1), padding=(1, 1), bias=False)\n",
       "      (bn2): BatchNorm2d(128, eps=1e-05, momentum=0.1, affine=True, track_running_stats=True)\n",
       "      (act2): ReLU(inplace=True)\n",
       "      (downsample): Sequential(\n",
       "        (0): Conv2d(64, 128, kernel_size=(1, 1), stride=(2, 2), bias=False)\n",
       "        (1): BatchNorm2d(128, eps=1e-05, momentum=0.1, affine=True, track_running_stats=True)\n",
       "      )\n",
       "    )\n",
       "    (1): BasicBlock(\n",
       "      (conv1): Conv2d(128, 128, kernel_size=(3, 3), stride=(1, 1), padding=(1, 1), bias=False)\n",
       "      (bn1): BatchNorm2d(128, eps=1e-05, momentum=0.1, affine=True, track_running_stats=True)\n",
       "      (drop_block): Identity()\n",
       "      (act1): ReLU(inplace=True)\n",
       "      (aa): Identity()\n",
       "      (conv2): Conv2d(128, 128, kernel_size=(3, 3), stride=(1, 1), padding=(1, 1), bias=False)\n",
       "      (bn2): BatchNorm2d(128, eps=1e-05, momentum=0.1, affine=True, track_running_stats=True)\n",
       "      (act2): ReLU(inplace=True)\n",
       "    )\n",
       "  )\n",
       "  (layer3): Sequential(\n",
       "    (0): BasicBlock(\n",
       "      (conv1): Conv2d(128, 256, kernel_size=(3, 3), stride=(2, 2), padding=(1, 1), bias=False)\n",
       "      (bn1): BatchNorm2d(256, eps=1e-05, momentum=0.1, affine=True, track_running_stats=True)\n",
       "      (drop_block): Identity()\n",
       "      (act1): ReLU(inplace=True)\n",
       "      (aa): Identity()\n",
       "      (conv2): Conv2d(256, 256, kernel_size=(3, 3), stride=(1, 1), padding=(1, 1), bias=False)\n",
       "      (bn2): BatchNorm2d(256, eps=1e-05, momentum=0.1, affine=True, track_running_stats=True)\n",
       "      (act2): ReLU(inplace=True)\n",
       "      (downsample): Sequential(\n",
       "        (0): Conv2d(128, 256, kernel_size=(1, 1), stride=(2, 2), bias=False)\n",
       "        (1): BatchNorm2d(256, eps=1e-05, momentum=0.1, affine=True, track_running_stats=True)\n",
       "      )\n",
       "    )\n",
       "    (1): BasicBlock(\n",
       "      (conv1): Conv2d(256, 256, kernel_size=(3, 3), stride=(1, 1), padding=(1, 1), bias=False)\n",
       "      (bn1): BatchNorm2d(256, eps=1e-05, momentum=0.1, affine=True, track_running_stats=True)\n",
       "      (drop_block): Identity()\n",
       "      (act1): ReLU(inplace=True)\n",
       "      (aa): Identity()\n",
       "      (conv2): Conv2d(256, 256, kernel_size=(3, 3), stride=(1, 1), padding=(1, 1), bias=False)\n",
       "      (bn2): BatchNorm2d(256, eps=1e-05, momentum=0.1, affine=True, track_running_stats=True)\n",
       "      (act2): ReLU(inplace=True)\n",
       "    )\n",
       "  )\n",
       "  (layer4): Sequential(\n",
       "    (0): BasicBlock(\n",
       "      (conv1): Conv2d(256, 512, kernel_size=(3, 3), stride=(2, 2), padding=(1, 1), bias=False)\n",
       "      (bn1): BatchNorm2d(512, eps=1e-05, momentum=0.1, affine=True, track_running_stats=True)\n",
       "      (drop_block): Identity()\n",
       "      (act1): ReLU(inplace=True)\n",
       "      (aa): Identity()\n",
       "      (conv2): Conv2d(512, 512, kernel_size=(3, 3), stride=(1, 1), padding=(1, 1), bias=False)\n",
       "      (bn2): BatchNorm2d(512, eps=1e-05, momentum=0.1, affine=True, track_running_stats=True)\n",
       "      (act2): ReLU(inplace=True)\n",
       "      (downsample): Sequential(\n",
       "        (0): Conv2d(256, 512, kernel_size=(1, 1), stride=(2, 2), bias=False)\n",
       "        (1): BatchNorm2d(512, eps=1e-05, momentum=0.1, affine=True, track_running_stats=True)\n",
       "      )\n",
       "    )\n",
       "    (1): BasicBlock(\n",
       "      (conv1): Conv2d(512, 512, kernel_size=(3, 3), stride=(1, 1), padding=(1, 1), bias=False)\n",
       "      (bn1): BatchNorm2d(512, eps=1e-05, momentum=0.1, affine=True, track_running_stats=True)\n",
       "      (drop_block): Identity()\n",
       "      (act1): ReLU(inplace=True)\n",
       "      (aa): Identity()\n",
       "      (conv2): Conv2d(512, 512, kernel_size=(3, 3), stride=(1, 1), padding=(1, 1), bias=False)\n",
       "      (bn2): BatchNorm2d(512, eps=1e-05, momentum=0.1, affine=True, track_running_stats=True)\n",
       "      (act2): ReLU(inplace=True)\n",
       "    )\n",
       "  )\n",
       "  (global_pool): SelectAdaptivePool2d (pool_type=avg, flatten=Flatten(start_dim=1, end_dim=-1))\n",
       "  (fc): Linear(in_features=512, out_features=100, bias=True)\n",
       ")"
      ]
     },
     "execution_count": 7,
     "metadata": {},
     "output_type": "execute_result"
    }
   ],
   "source": [
    "from e2eAIOK.common.trainer.model.model_utils.model_utils import initWeights\n",
    "backbone.apply(initWeights)"
   ]
  },
  {
   "cell_type": "markdown",
   "id": "91d0a190",
   "metadata": {},
   "source": [
    "### Create teacher model\n",
    "We still need to prepare teacher model [vit_base-224-in21k-ft-cifar100 from HuggingFace](https://huggingface.co/edumunozsala/vit_base-224-in21k-ft-cifar100) for a complete Distiller definition. "
   ]
  },
  {
   "cell_type": "code",
   "execution_count": 1,
   "id": "368fa749",
   "metadata": {},
   "outputs": [],
   "source": [
    "from transformers import ViTForImageClassification\n",
    "teacher_model = ViTForImageClassification.from_pretrained('edumunozsala/vit_base-224-in21k-ft-cifar100')"
   ]
  },
  {
   "cell_type": "markdown",
   "id": "033ac27b",
   "metadata": {},
   "source": [
    "### Define Distiller\n",
    "Here we define a distiller using KD algorithm, and it take a teacher model as input.\n",
    "\n",
    "If teacher comes from Hugginface, please clarify \"teacher_type\" with a name starting with \"huggingface\", otherwise no need.\n",
    "\n",
    "Set use_saved_logits to be True when we want to load logits saved before."
   ]
  },
  {
   "cell_type": "code",
   "execution_count": 9,
   "id": "dd31b80f",
   "metadata": {},
   "outputs": [],
   "source": [
    "from e2eAIOK.ModelAdapter.engine_core.distiller import KD\n",
    "distiller= KD(teacher_model, use_saved_logits=True,teacher_type=\"huggingface_vit\")"
   ]
  },
  {
   "cell_type": "markdown",
   "id": "5bf6e4c5",
   "metadata": {},
   "source": [
    "### Make Model transferrable with distiller"
   ]
  },
  {
   "cell_type": "code",
   "execution_count": 10,
   "id": "6456289e",
   "metadata": {},
   "outputs": [],
   "source": [
    "from e2eAIOK.ModelAdapter.engine_core.transferrable_model import *\n",
    "loss_fn = torch.nn.CrossEntropyLoss()\n",
    "model = make_transferrable_with_knowledge_distillation(backbone,loss_fn,distiller)"
   ]
  },
  {
   "cell_type": "markdown",
   "id": "3f79311e",
   "metadata": {},
   "source": [
    "## Train and Evaluate"
   ]
  },
  {
   "cell_type": "markdown",
   "id": "aa226f93",
   "metadata": {},
   "source": [
    "### create optimizer and scheduler"
   ]
  },
  {
   "cell_type": "code",
   "execution_count": 11,
   "id": "5c9561a5",
   "metadata": {},
   "outputs": [],
   "source": [
    "################# create optimizer #################\n",
    "init_lr = 0.01\n",
    "weight_decay = 0.005\n",
    "momentum = 0.9\n",
    "optimizer = optim.SGD(model.parameters(),lr=init_lr, weight_decay=weight_decay,momentum=momentum)\n",
    "################# create scheduler #################\n",
    "scheduler = optim.lr_scheduler.ExponentialLR(optimizer, gamma=0.1)"
   ]
  },
  {
   "cell_type": "markdown",
   "id": "4e633199",
   "metadata": {},
   "source": [
    "### Create Trainer"
   ]
  },
  {
   "cell_type": "code",
   "execution_count": 12,
   "id": "e4f73dfa",
   "metadata": {},
   "outputs": [],
   "source": [
    "max_epoch = 1 # max 1 epoch\n",
    "print_interval = 10 "
   ]
  },
  {
   "cell_type": "code",
   "execution_count": 13,
   "id": "874fb6b2",
   "metadata": {},
   "outputs": [],
   "source": [
    "class Trainer:\n",
    "    def __init__(self, model, optimizer, scheduler):\n",
    "        self._model = model\n",
    "        self._optimizer = optimizer\n",
    "        self._scheduler = scheduler\n",
    "        \n",
    "    def train(self, train_dataloader, valid_dataloader, max_epoch):\n",
    "        ''' \n",
    "        :param train_dataloader: train dataloader\n",
    "        :param valid_dataloader: validation dataloader\n",
    "        :param max_epoch: steps per epoch\n",
    "        '''\n",
    "        for epoch in range(0, max_epoch):\n",
    "            train_dataloader.dataset.set_epoch(epoch) # Update epoch for dataset\n",
    "            ################## train #####################\n",
    "            self._model.train()  # set training flag\n",
    "            for (cur_step,(data, label)) in enumerate(train_dataloader):\n",
    "                self._optimizer.zero_grad()\n",
    "                output = self._model(data)\n",
    "                loss_value = self._model.loss(output, label) # transferrable model has loss attribute\n",
    "                loss_value.backward() \n",
    "                if cur_step%print_interval == 0:\n",
    "                    batch_acc = accuracy(output.backbone_output,label)[0] # use output.backbone_output instead of output\n",
    "                    dt = datetime.datetime.now().strftime('%Y-%m-%d %H:%M:%S') # date time\n",
    "                    print(\"[{}] epoch {} step {} : total loss {:4f}, training backbone loss {:.4f}, distiller loss {:4f}, training batch acc {:.4f}\".format(\n",
    "                      dt, epoch, cur_step, loss_value.total_loss.item(),loss_value.backbone_loss.item(), loss_value.distiller_loss.item(), batch_acc.item())) \n",
    "                self._optimizer.step()\n",
    "            self._scheduler.step()\n",
    "            ################## evaluate ######################\n",
    "            self.evaluate(valid_dataloader)\n",
    "            \n",
    "    def evaluate(self, valid_dataloader):\n",
    "        with torch.no_grad():\n",
    "            self._model.eval()  \n",
    "            backbone = self._model.backbone # use backbone in evaluation\n",
    "            loss_cum = 0.0\n",
    "            sample_num = 0\n",
    "            acc_cum = 0.0\n",
    "            total_step = len(valid_dataloader)\n",
    "            for (cur_step,(data, label)) in enumerate(valid_dataloader):\n",
    "                output = backbone(data)\n",
    "                batch_size = data.size(0)\n",
    "                sample_num += batch_size\n",
    "                loss_cum += loss_fn(output, label).item() * batch_size\n",
    "                acc_cum += accuracy(output, label)[0].item() * batch_size\n",
    "                if cur_step%print_interval == 0:\n",
    "                    print(f\"step {cur_step}/{total_step}\")\n",
    "            dt = datetime.datetime.now().strftime('%Y-%m-%d %H:%M:%S') # date time\n",
    "            loss_value = loss_cum/sample_num\n",
    "            acc_value = acc_cum/sample_num\n",
    "\n",
    "            print(\"[{}] evaluation loss {:.4f}, evaluation acc {:.4f}\".format(\n",
    "                dt, loss_value, acc_value))"
   ]
  },
  {
   "cell_type": "markdown",
   "id": "6ad7615c",
   "metadata": {},
   "source": [
    "# Train and evaluate"
   ]
  },
  {
   "cell_type": "code",
   "execution_count": 14,
   "id": "bae383b6",
   "metadata": {},
   "outputs": [
    {
     "name": "stdout",
     "output_type": "stream",
     "text": [
      "[2023-02-09 05:15:37] epoch 0 step 0 : total loss 9.051041, training backbone loss 5.5767, distiller loss 9.437075, training batch acc 0.0000\n",
      "[2023-02-09 05:15:38] epoch 0 step 10 : total loss 8.147980, training backbone loss 5.1847, distiller loss 8.477229, training batch acc 1.5625\n",
      "[2023-02-09 05:15:39] epoch 0 step 20 : total loss 7.825808, training backbone loss 4.9015, distiller loss 8.150730, training batch acc 7.8125\n",
      "[2023-02-09 05:15:39] epoch 0 step 30 : total loss 7.352342, training backbone loss 4.3038, distiller loss 7.691065, training batch acc 3.9062\n",
      "[2023-02-09 05:15:40] epoch 0 step 40 : total loss 6.942072, training backbone loss 4.5191, distiller loss 7.211297, training batch acc 3.9062\n",
      "[2023-02-09 05:15:41] epoch 0 step 50 : total loss 6.981371, training backbone loss 4.2407, distiller loss 7.285894, training batch acc 7.8125\n",
      "[2023-02-09 05:15:42] epoch 0 step 60 : total loss 6.771616, training backbone loss 4.1917, distiller loss 7.058270, training batch acc 8.5938\n",
      "[2023-02-09 05:15:42] epoch 0 step 70 : total loss 6.594632, training backbone loss 3.9291, distiller loss 6.890799, training batch acc 6.2500\n",
      "[2023-02-09 05:15:43] epoch 0 step 80 : total loss 7.129184, training backbone loss 4.3106, distiller loss 7.442366, training batch acc 10.1562\n",
      "[2023-02-09 05:15:44] epoch 0 step 90 : total loss 7.220770, training backbone loss 4.3458, distiller loss 7.540215, training batch acc 10.9375\n",
      "[2023-02-09 05:15:45] epoch 0 step 100 : total loss 6.525864, training backbone loss 4.0678, distiller loss 6.798977, training batch acc 12.5000\n",
      "[2023-02-09 05:15:45] epoch 0 step 110 : total loss 6.217012, training backbone loss 3.8171, distiller loss 6.483665, training batch acc 11.7188\n",
      "[2023-02-09 05:15:46] epoch 0 step 120 : total loss 6.936858, training backbone loss 4.1889, distiller loss 7.242183, training batch acc 10.9375\n",
      "[2023-02-09 05:15:47] epoch 0 step 130 : total loss 6.650487, training backbone loss 3.7074, distiller loss 6.977501, training batch acc 13.2812\n",
      "[2023-02-09 05:15:48] epoch 0 step 140 : total loss 6.653414, training backbone loss 3.9420, distiller loss 6.954679, training batch acc 14.0625\n",
      "[2023-02-09 05:15:48] epoch 0 step 150 : total loss 7.257474, training backbone loss 3.7525, distiller loss 7.646914, training batch acc 14.8438\n",
      "[2023-02-09 05:15:49] epoch 0 step 160 : total loss 6.548478, training backbone loss 4.1025, distiller loss 6.820250, training batch acc 11.7188\n",
      "[2023-02-09 05:15:50] epoch 0 step 170 : total loss 6.475552, training backbone loss 3.9330, distiller loss 6.758060, training batch acc 14.0625\n",
      "[2023-02-09 05:15:51] epoch 0 step 180 : total loss 6.984634, training backbone loss 3.9580, distiller loss 7.320928, training batch acc 14.8438\n",
      "[2023-02-09 05:15:51] epoch 0 step 190 : total loss 6.603715, training backbone loss 3.7462, distiller loss 6.921213, training batch acc 16.4062\n",
      "[2023-02-09 05:15:52] epoch 0 step 200 : total loss 6.351294, training backbone loss 3.9023, distiller loss 6.623409, training batch acc 12.5000\n",
      "[2023-02-09 05:15:53] epoch 0 step 210 : total loss 5.952562, training backbone loss 3.5779, distiller loss 6.216418, training batch acc 14.0625\n",
      "[2023-02-09 05:15:54] epoch 0 step 220 : total loss 6.107297, training backbone loss 3.6917, distiller loss 6.375696, training batch acc 14.8438\n",
      "[2023-02-09 05:15:54] epoch 0 step 230 : total loss 6.393050, training backbone loss 3.7115, distiller loss 6.691005, training batch acc 10.9375\n",
      "[2023-02-09 05:15:55] epoch 0 step 240 : total loss 6.237183, training backbone loss 3.8600, distiller loss 6.501309, training batch acc 14.0625\n",
      "[2023-02-09 05:15:56] epoch 0 step 250 : total loss 6.265996, training backbone loss 3.6948, distiller loss 6.551681, training batch acc 14.0625\n",
      "[2023-02-09 05:15:57] epoch 0 step 260 : total loss 6.228647, training backbone loss 3.4865, distiller loss 6.533331, training batch acc 12.5000\n",
      "[2023-02-09 05:15:57] epoch 0 step 270 : total loss 6.461031, training backbone loss 3.9466, distiller loss 6.740417, training batch acc 12.5000\n",
      "[2023-02-09 05:15:58] epoch 0 step 280 : total loss 5.767844, training backbone loss 3.4671, distiller loss 6.023488, training batch acc 19.5312\n",
      "[2023-02-09 05:15:59] epoch 0 step 290 : total loss 6.218063, training backbone loss 3.9109, distiller loss 6.474419, training batch acc 14.0625\n",
      "[2023-02-09 05:16:00] epoch 0 step 300 : total loss 5.992353, training backbone loss 3.6997, distiller loss 6.247097, training batch acc 17.1875\n",
      "[2023-02-09 05:16:01] epoch 0 step 310 : total loss 6.068588, training backbone loss 3.6517, distiller loss 6.337132, training batch acc 15.6250\n",
      "[2023-02-09 05:16:01] epoch 0 step 320 : total loss 5.994242, training backbone loss 3.7339, distiller loss 6.245396, training batch acc 18.7500\n",
      "[2023-02-09 05:16:02] epoch 0 step 330 : total loss 5.563178, training backbone loss 3.5874, distiller loss 5.782709, training batch acc 17.9688\n",
      "[2023-02-09 05:16:03] epoch 0 step 340 : total loss 5.713286, training backbone loss 3.8515, distiller loss 5.920149, training batch acc 19.5312\n",
      "[2023-02-09 05:16:04] epoch 0 step 350 : total loss 5.793954, training backbone loss 3.4337, distiller loss 6.056199, training batch acc 20.3125\n",
      "[2023-02-09 05:16:04] epoch 0 step 360 : total loss 6.517560, training backbone loss 3.6678, distiller loss 6.834197, training batch acc 11.7188\n",
      "[2023-02-09 05:16:05] epoch 0 step 370 : total loss 5.799528, training backbone loss 3.8080, distiller loss 6.020807, training batch acc 15.6250\n",
      "[2023-02-09 05:16:06] epoch 0 step 380 : total loss 5.845518, training backbone loss 3.5890, distiller loss 6.096237, training batch acc 16.4062\n",
      "[2023-02-09 05:16:07] epoch 0 step 390 : total loss 5.548509, training backbone loss 3.5382, distiller loss 5.771876, training batch acc 18.7500\n",
      "step 0/79\n",
      "step 10/79\n",
      "step 20/79\n",
      "step 30/79\n",
      "step 40/79\n",
      "step 50/79\n",
      "step 60/79\n",
      "step 70/79\n",
      "[2023-02-09 05:16:10] evaluation loss 3.6463, evaluation acc 17.8000\n",
      "CPU times: user 23min 49s, sys: 53.7 s, total: 24min 43s\n",
      "Wall time: 33.5 s\n"
     ]
    }
   ],
   "source": [
    "%%time\n",
    "trainer = Trainer(model, optimizer, scheduler)\n",
    "trainer.train(train_loader,validate_loader,max_epoch)"
   ]
  }
 ],
 "metadata": {
  "kernelspec": {
   "display_name": "Python 3 (ipykernel)",
   "language": "python",
   "name": "python3"
  },
  "language_info": {
   "codemirror_mode": {
    "name": "ipython",
    "version": 3
   },
   "file_extension": ".py",
   "mimetype": "text/x-python",
   "name": "python",
   "nbconvert_exporter": "python",
   "pygments_lexer": "ipython3",
   "version": "3.9.12"
  }
 },
 "nbformat": 4,
 "nbformat_minor": 5
}
